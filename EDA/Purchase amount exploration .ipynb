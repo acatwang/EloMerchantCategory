{
 "cells": [
  {
   "cell_type": "code",
   "execution_count": 14,
   "metadata": {
    "collapsed": true
   },
   "outputs": [],
   "source": [
    "from datamode.interface import *\n",
    "import numpy as np # linear algebra\n",
    "import pandas as pd # data processing, CSV file I/O (e.g. pd.read_csv)\n",
    "import datetime\n",
    "from datetime import datetime as dt\n",
    "import os\n",
    "# print(os.listdir(\"../input\"))\n",
    "import seaborn as sns \n",
    "from scipy import stats\n"
   ]
  },
  {
   "cell_type": "code",
   "execution_count": 2,
   "metadata": {
    "collapsed": true
   },
   "outputs": [],
   "source": [
    "# new_merchant_transactions = pd.read_csv('all/new_merchant_transactions.csv',parse_dates=['purchase_date'], nrows=1000)\n",
    "# historical_transactions = pd.read_csv('all/historical_transactions.csv',parse_dates=['purchase_date'], nrows=1000)\n",
    "n_txs = pd.read_csv('all/new_merchant_transactions.csv',parse_dates=['purchase_date'])\n",
    "# h_txs = pd.read_csv('all/historical_transactions.csv',parse_dates=['purchase_date'])\n",
    "merchant = pd.read_csv('all/merchants.csv').drop(['category_1', 'category_2'], 1)# Since category column exist in transaction data already, we filter them out before merge into transaction data \n"
   ]
  },
  {
   "cell_type": "code",
   "execution_count": 3,
   "metadata": {
    "collapsed": true
   },
   "outputs": [],
   "source": [
    "def identify_outliers(df, col, z_threshold=3):\n",
    "    \"\"\"\n",
    "    Identifty outliers cohort by z score\n",
    "    \"\"\"\n",
    "    z = np.abs(stats.zscore(df[col]))\n",
    "    df = df[z>z_threshold]\n",
    "    print(\"Outliers stats\")\n",
    "    print(df[col].describe())\n",
    "    return df"
   ]
  },
  {
   "cell_type": "code",
   "execution_count": 20,
   "metadata": {
    "collapsed": true
   },
   "outputs": [],
   "source": [
    "def filter_outliers(df, col, z_threshold = 3):\n",
    "    \"\"\"\n",
    "    Return df without outliers \n",
    "    \"\"\"\n",
    "    z = np.abs(stats.zscore(df[col]))\n",
    "    df = df[z<z_threshold]\n",
    "    print(\"Stats\")\n",
    "    print(df[col].describe())\n",
    "    return df"
   ]
  },
  {
   "cell_type": "code",
   "execution_count": 4,
   "metadata": {},
   "outputs": [
    {
     "name": "stdout",
     "output_type": "stream",
     "text": [
      "Outliers stats\n",
      "       purchase_amount\n",
      "count     18337.000000\n",
      "mean          4.018515\n",
      "std           4.878641\n",
      "min           1.531111\n",
      "25%           1.970682\n",
      "50%           2.707687\n",
      "75%           4.215297\n",
      "max         263.157498\n"
     ]
    }
   ],
   "source": [
    "purchase_outliers = identify_outliers(n_txs, [\"purchase_amount\"])"
   ]
  },
  {
   "cell_type": "code",
   "execution_count": 5,
   "metadata": {},
   "outputs": [
    {
     "name": "stdout",
     "output_type": "stream",
     "text": [
      "(18337, 14)\n",
      "(1963031, 14)\n"
     ]
    }
   ],
   "source": [
    "print(purchase_outliers.shape)\n",
    "print(n_txs.shape)"
   ]
  },
  {
   "cell_type": "code",
   "execution_count": 6,
   "metadata": {},
   "outputs": [
    {
     "data": {
      "text/plain": [
       "Index(['authorized_flag', 'card_id', 'city_id', 'category_1', 'installments',\n",
       "       'category_3', 'merchant_category_id', 'merchant_id', 'month_lag',\n",
       "       'purchase_amount', 'purchase_date', 'category_2', 'state_id',\n",
       "       'subsector_id'],\n",
       "      dtype='object')"
      ]
     },
     "execution_count": 6,
     "metadata": {},
     "output_type": "execute_result"
    }
   ],
   "source": [
    "purchase_outliers.columns"
   ]
  },
  {
   "cell_type": "code",
   "execution_count": 7,
   "metadata": {
    "collapsed": true
   },
   "outputs": [],
   "source": [
    "purchase_cat_cols = [\"purchase_amount\", \"category_1\", \"category_2\", \"category_3\",\"merchant_id\", \"purchase_date\"]"
   ]
  },
  {
   "cell_type": "code",
   "execution_count": 8,
   "metadata": {},
   "outputs": [
    {
     "name": "stdout",
     "output_type": "stream",
     "text": [
      "[\u001b[1;33mWARNING\u001b[0m] A YAML file was not found. If this is expected please ignore this warning.\n",
      "[\u001b[1;34mDEBUG\u001b[0m] [__init__:15    ] Execute transforms (Start): current time=4:54:28.306\n",
      "[\u001b[1;37mINFO\u001b[0m] Transforms:\n",
      "[\"SourceDF, options={'df':          purchase_amount category_1  category_2 \"\n",
      " 'category_3      merchant_id  \\\\\\n'\n",
      " '6               5.263697          N         1.0          B  '\n",
      " 'M_ID_6d061b5ddc   \\n'\n",
      " '10              4.452265          N         1.0        NaN  '\n",
      " 'M_ID_3ffd43b4cd   \\n'\n",
      " '21              3.009720          Y         NaN          C  '\n",
      " 'M_ID_79692349d6   \\n'\n",
      " '24              2.126146          Y         NaN          C  '\n",
      " 'M_ID_3111c6df35   \\n'\n",
      " '51              1.597228          N         4.0          A              '\n",
      " 'NaN   \\n'\n",
      " '64              2.859455          N         4.0          A  '\n",
      " 'M_ID_0c9c0f995f   \\n'\n",
      " '156             2.198289          N         3.0          A  '\n",
      " 'M_ID_17eb896bf2   \\n'\n",
      " '161             1.582202          N         3.0          A  '\n",
      " 'M_ID_8949e3f6e1   \\n'\n",
      " '232             3.012410          N         1.0          B  '\n",
      " 'M_ID_10607e48d0   \\n'\n",
      " '315             5.263697          N         1.0          B  '\n",
      " 'M_ID_2a48197573   \\n'\n",
      " '641             2.108129          N         1.0        NaN  '\n",
      " 'M_ID_3dfd6d6de7   \\n'\n",
      " '1015            8.466853          Y         NaN          C  '\n",
      " 'M_ID_6464db3b45   \\n'\n",
      " '1025            3.591246          N         1.0          C  '\n",
      " 'M_ID_981fe24744   \\n'\n",
      " '1052            2.994243          N         1.0          C  '\n",
      " 'M_ID_823f128c0b   \\n'\n",
      " '1057            5.263697          N         1.0          C  '\n",
      " 'M_ID_9122ebdd02   \\n'\n",
      " '1475            3.310250          N         3.0          C  '\n",
      " 'M_ID_629e6f07c9   \\n'\n",
      " '1482            6.633739          N         1.0          C  '\n",
      " 'M_ID_22a472f06d   \\n'\n",
      " '1501            6.453421          N         1.0          C  '\n",
      " 'M_ID_076cd8a829   \\n'\n",
      " '1627            2.432702          N         1.0        NaN  '\n",
      " 'M_ID_0a2689c889   \\n'\n",
      " '1669            2.108129          N         5.0          A  '\n",
      " 'M_ID_1ea25270be   \\n'\n",
      " '1732            6.751322          N         5.0          A  '\n",
      " 'M_ID_1e60b7688c   \\n'\n",
      " '1861            1.846067          Y         NaN          C  '\n",
      " 'M_ID_b9f9332438   \\n'\n",
      " '1941            6.277986          N         1.0          C  '\n",
      " 'M_ID_c2b7953b95   \\n'\n",
      " '2028            4.211841          N         5.0          C  '\n",
      " 'M_ID_a40b6f56b5   \\n'\n",
      " '2215            1.723451          N         1.0          C  '\n",
      " 'M_ID_bdaeee4a0e   \\n'\n",
      " '2293            4.211330          Y         NaN          C  '\n",
      " 'M_ID_cfa9a773ca   \\n'\n",
      " '2304            1.807599          N         1.0          A  '\n",
      " 'M_ID_a0bec1c066   \\n'\n",
      " '2336            7.367409          N         1.0          B  '\n",
      " 'M_ID_ebbdb42da6   \\n'\n",
      " '2388           16.873511          Y         NaN          C  '\n",
      " 'M_ID_9f227ee53d   \\n'\n",
      " '2392            2.558925          N         3.0        NaN  '\n",
      " 'M_ID_297bc5c6ca   \\n'\n",
      " '...                  ...        ...         ...        ...              '\n",
      " '...   \\n'\n",
      " '1961895         2.185591          N         1.0          C  '\n",
      " 'M_ID_2ec50592e1   \\n'\n",
      " '1961943         4.330971          Y         NaN          C  '\n",
      " 'M_ID_22a472f06d   \\n'\n",
      " '1961952         2.304706          Y         NaN          B  '\n",
      " 'M_ID_b9f9332438   \\n'\n",
      " '1961983         1.595725          N         3.0          C  '\n",
      " 'M_ID_eb32376a45   \\n'\n",
      " '1961990         3.734329          N         1.0          A  '\n",
      " 'M_ID_50f575c681   \\n'\n",
      " '1962055         2.719708          N         1.0          A  '\n",
      " 'M_ID_22a26a01bf   \\n'\n",
      " '1962075         1.729942          Y         NaN          C  '\n",
      " 'M_ID_1e50244d85   \\n'\n",
      " '1962234         2.258395          N         3.0          C  '\n",
      " 'M_ID_2a2690ef2f   \\n'\n",
      " '1962375         5.188564          N         2.0          C  '\n",
      " 'M_ID_d1fc140d7a   \\n'\n",
      " '1962386         2.015115          Y         NaN          B  '\n",
      " 'M_ID_09d7a200d1   \\n'\n",
      " '1962392         2.108129          N         2.0          C  '\n",
      " 'M_ID_b6b9b8ed67   \\n'\n",
      " '1962489         6.522197          Y         NaN        NaN  '\n",
      " 'M_ID_4a42617458   \\n'\n",
      " '1962504         2.258395          N         3.0        NaN  '\n",
      " 'M_ID_9b01664998   \\n'\n",
      " '1962506         2.032997          N         5.0        NaN  '\n",
      " 'M_ID_a1e1ee48e9   \\n'\n",
      " '1962526         1.955610          Y         NaN          B  '\n",
      " 'M_ID_09d7a200d1   \\n'\n",
      " '1962594         1.788065          N         1.0        NaN  '\n",
      " 'M_ID_253b66f4a5   \\n'\n",
      " '1962618         3.069826          N         3.0        NaN  '\n",
      " 'M_ID_8f34a04d6e   \\n'\n",
      " '1962680         1.544635          N         1.0          C  '\n",
      " 'M_ID_5cea7e02a8   \\n'\n",
      " '1962681         3.030457          N         1.0          C  '\n",
      " 'M_ID_d40a2478bd   \\n'\n",
      " '1962689         1.762520          N         3.0          B  '\n",
      " 'M_ID_dea8779a20   \\n'\n",
      " '1962791         2.258395          N         1.0        NaN  '\n",
      " 'M_ID_205c8c9f02   \\n'\n",
      " '1962795         5.795455          Y         NaN          C  '\n",
      " 'M_ID_6464db3b45   \\n'\n",
      " '1962825         4.428223          Y         NaN          C  '\n",
      " 'M_ID_96ba3c7b60   \\n'\n",
      " '1962870         5.329438          N         5.0          A  '\n",
      " 'M_ID_1dc0a8046e   \\n'\n",
      " '1962924         2.825675          N         3.0          B  '\n",
      " 'M_ID_1b5a3c1373   \\n'\n",
      " '1962934         1.612255          N         1.0          B  '\n",
      " 'M_ID_1c69ea5a5c   \\n'\n",
      " '1962936         1.867705          N         1.0          C  '\n",
      " 'M_ID_8ca7be5a4a   \\n'\n",
      " '1962947         2.979667          N         3.0        NaN  '\n",
      " 'M_ID_310ed72733   \\n'\n",
      " '1963000         7.647924          N         3.0        NaN  '\n",
      " 'M_ID_0ed8010477   \\n'\n",
      " '1963008        14.269401          N         4.0        NaN  '\n",
      " 'M_ID_d08abd9332   \\n'\n",
      " '\\n'\n",
      " '              purchase_date  \\n'\n",
      " '6       2018-03-28 19:50:19  \\n'\n",
      " '10      2018-03-31 09:55:40  \\n'\n",
      " '21      2018-03-30 20:05:54  \\n'\n",
      " '24      2018-03-03 11:40:58  \\n'\n",
      " '51      2017-12-19 08:07:34  \\n'\n",
      " '64      2017-11-14 19:14:45  \\n'\n",
      " '156     2018-03-28 14:32:52  \\n'\n",
      " '161     2018-03-26 15:31:14  \\n'\n",
      " '232     2018-04-23 12:55:21  \\n'\n",
      " '315     2018-04-17 17:22:22  \\n'\n",
      " '641     2018-03-10 08:12:11  \\n'\n",
      " '1015    2018-01-31 15:48:51  \\n'\n",
      " '1025    2017-09-10 19:14:08  \\n'\n",
      " '1052    2017-09-23 16:25:23  \\n'\n",
      " '1057    2017-09-23 17:34:48  \\n'\n",
      " '1475    2018-04-22 00:08:35  \\n'\n",
      " '1482    2018-03-10 22:22:42  \\n'\n",
      " '1501    2018-03-11 23:02:09  \\n'\n",
      " '1627    2018-04-27 07:18:25  \\n'\n",
      " '1669    2017-12-11 14:49:32  \\n'\n",
      " '1732    2018-04-25 15:19:10  \\n'\n",
      " '1861    2018-04-23 14:24:29  \\n'\n",
      " '1941    2017-10-25 12:37:23  \\n'\n",
      " '2028    2018-03-29 18:32:40  \\n'\n",
      " '2215    2018-04-14 12:16:08  \\n'\n",
      " '2293    2018-01-06 13:08:08  \\n'\n",
      " '2304    2018-04-20 17:54:08  \\n'\n",
      " '2336    2018-03-22 13:34:03  \\n'\n",
      " '2388    2018-01-14 22:49:19  \\n'\n",
      " '2392    2017-12-01 12:48:24  \\n'\n",
      " '...                     ...  \\n'\n",
      " '1961895 2018-02-05 17:13:36  \\n'\n",
      " '1961943 2018-04-16 21:22:40  \\n'\n",
      " '1961952 2018-03-11 23:50:44  \\n'\n",
      " '1961983 2018-01-23 11:34:59  \\n'\n",
      " '1961990 2018-03-26 17:12:37  \\n'\n",
      " '1962055 2017-11-13 18:04:10  \\n'\n",
      " '1962075 2018-03-15 07:19:44  \\n'\n",
      " '1962234 2018-02-22 14:58:35  \\n'\n",
      " '1962375 2018-03-06 11:32:44  \\n'\n",
      " '1962386 2018-03-10 18:14:51  \\n'\n",
      " '1962392 2018-03-13 15:34:45  \\n'\n",
      " '1962489 2018-03-01 05:13:37  \\n'\n",
      " '1962504 2018-03-22 06:24:56  \\n'\n",
      " '1962506 2018-01-26 14:17:46  \\n'\n",
      " '1962526 2018-02-21 11:43:44  \\n'\n",
      " '1962594 2018-03-31 10:48:24  \\n'\n",
      " '1962618 2018-03-01 12:05:18  \\n'\n",
      " '1962680 2018-03-28 14:00:38  \\n'\n",
      " '1962681 2018-03-07 16:39:24  \\n'\n",
      " '1962689 2018-02-16 19:22:47  \\n'\n",
      " '1962791 2018-04-04 11:00:00  \\n'\n",
      " '1962795 2018-04-09 23:13:14  \\n'\n",
      " '1962825 2018-03-23 21:52:41  \\n'\n",
      " '1962870 2018-02-26 17:18:01  \\n'\n",
      " '1962924 2018-04-19 12:02:33  \\n'\n",
      " '1962934 2018-03-11 09:55:45  \\n'\n",
      " '1962936 2018-03-26 10:20:23  \\n'\n",
      " '1962947 2018-03-17 09:01:47  \\n'\n",
      " '1963000 2018-04-12 13:33:30  \\n'\n",
      " '1963008 2018-04-23 06:44:21  \\n'\n",
      " '\\n'\n",
      " \"[18337 rows x 6 columns], 'dfname': 'my_dataframe'}\"]\n",
      "[\u001b[1;37mINFO\u001b[0m] Loaded table my_dataframe\n",
      "[\u001b[1;37mINFO\u001b[0m] \n",
      "------------------------ Output ----------------------------\n",
      "\n",
      " my_dataframe:\n",
      "    purchase_amount category_1  category_2 category_3      merchant_id  \\\n",
      "6          5.263697          N         1.0          B  M_ID_6d061b5ddc   \n",
      "10         4.452265          N         1.0        NaN  M_ID_3ffd43b4cd   \n",
      "21         3.009720          Y         NaN          C  M_ID_79692349d6   \n",
      "24         2.126146          Y         NaN          C  M_ID_3111c6df35   \n",
      "51         1.597228          N         4.0          A              NaN   \n",
      "\n",
      "         purchase_date  \n",
      "6  2018-03-28 19:50:19  \n",
      "10 2018-03-31 09:55:40  \n",
      "21 2018-03-30 20:05:54  \n",
      "24 2018-03-03 11:40:58  \n",
      "51 2017-12-19 08:07:34  \n",
      "\n",
      "\n"
     ]
    },
    {
     "name": "stdout",
     "output_type": "stream",
     "text": [
      "[\u001b[1;34mDEBUG\u001b[0m] [__init__:15    ] ReactBridge (Start): current time=4:54:28.473\n"
     ]
    },
    {
     "name": "stderr",
     "output_type": "stream",
     "text": [
      "/Users/peggy/.virtualenvs/dm/lib/python3.6/site-packages/pandas/core/frame.py:3781: SettingWithCopyWarning: \n",
      "A value is trying to be set on a copy of a slice from a DataFrame\n",
      "\n",
      "See the caveats in the documentation: http://pandas.pydata.org/pandas-docs/stable/indexing.html#indexing-view-versus-copy\n",
      "  return super(DataFrame, self).rename(**kwargs)\n"
     ]
    }
   ],
   "source": [
    "quickshow(purchase_outliers[purchase_cat_cols])\n"
   ]
  },
  {
   "cell_type": "code",
   "execution_count": 36,
   "metadata": {},
   "outputs": [
    {
     "name": "stdout",
     "output_type": "stream",
     "text": [
      "[\u001b[1;33mWARNING\u001b[0m] A YAML file was not found. If this is expected please ignore this warning.\n",
      "[\u001b[1;34mDEBUG\u001b[0m] [__init__:15    ] Execute transforms (Start): current time=5:07:01.976\n",
      "[\u001b[1;37mINFO\u001b[0m] Transforms:\n",
      "[\"SourceDF, options={'df':          purchase_amount category_1  category_2 \"\n",
      " 'category_3      merchant_id  \\\\\\n'\n",
      " '0              -0.557574          N         1.0          B  '\n",
      " 'M_ID_b0c793002c   \\n'\n",
      " '1              -0.569580          N         1.0          B  '\n",
      " 'M_ID_88920c89e8   \\n'\n",
      " '2              -0.551037          N         1.0          B  '\n",
      " 'M_ID_ad5237ef6b   \\n'\n",
      " '3              -0.671925          Y         NaN          B  '\n",
      " 'M_ID_9e84cda3b1   \\n'\n",
      " '4              -0.659904          Y         NaN          B  '\n",
      " 'M_ID_3c86fa3831   \\n'\n",
      " '5              -0.633007          N         1.0          B  '\n",
      " 'M_ID_8874615e00   \\n'\n",
      " '6               5.263697          N         1.0          B  '\n",
      " 'M_ID_6d061b5ddc   \\n'\n",
      " '7              -0.553787          N         1.0          B  '\n",
      " 'M_ID_df1e022f41   \\n'\n",
      " '8              -0.596643          N         1.0          B  '\n",
      " 'M_ID_d15eae0468   \\n'\n",
      " '9              -0.607191          N         1.0          B  '\n",
      " 'M_ID_5f9bffd028   \\n'\n",
      " '10              4.452265          N         1.0        NaN  '\n",
      " 'M_ID_3ffd43b4cd   \\n'\n",
      " '11             -0.605959          N         1.0          B  '\n",
      " 'M_ID_e6f5213fbf   \\n'\n",
      " '12             -0.634209          N         1.0          B  '\n",
      " 'M_ID_aa97bc87f6   \\n'\n",
      " '13             -0.492058          N         1.0          B  '\n",
      " 'M_ID_28fbc8c74d   \\n'\n",
      " '14             -0.665539          Y         NaN          B  '\n",
      " 'M_ID_b9f9332438   \\n'\n",
      " '15             -0.646245          N         1.0          B  '\n",
      " 'M_ID_ad15049b64   \\n'\n",
      " '16             -0.671775          N         1.0          B  '\n",
      " 'M_ID_51757498fd   \\n'\n",
      " '17             -0.690228          N         1.0          B  '\n",
      " 'M_ID_a1183a4e5e   \\n'\n",
      " '18              0.751371          N         1.0          C  '\n",
      " 'M_ID_f74d9cbbd0   \\n'\n",
      " '19             -0.343296          N         1.0          B  '\n",
      " 'M_ID_f0bf60c061   \\n'\n",
      " '20             -0.654885          N         1.0          B  '\n",
      " 'M_ID_2ae6547567   \\n'\n",
      " '21              3.009720          Y         NaN          C  '\n",
      " 'M_ID_79692349d6   \\n'\n",
      " '22             -0.432253          N         1.0          B  '\n",
      " 'M_ID_532b2abc39   \\n'\n",
      " '23             -0.357721          N         1.0          C  '\n",
      " 'M_ID_99c89d936e   \\n'\n",
      " '24              2.126146          Y         NaN          C  '\n",
      " 'M_ID_3111c6df35   \\n'\n",
      " '25             -0.704834          N         1.0          B  '\n",
      " 'M_ID_7fc4685211   \\n'\n",
      " '26             -0.461705          N         1.0          C  '\n",
      " 'M_ID_7c26306ee3   \\n'\n",
      " '27             -0.294760          N         1.0          C  '\n",
      " 'M_ID_7c7d14fd19   \\n'\n",
      " '28             -0.202377          N         1.0          A  '\n",
      " 'M_ID_7064a8aa68   \\n'\n",
      " '29              0.755743          N         1.0          A  '\n",
      " 'M_ID_1f4773aa76   \\n'\n",
      " '...                  ...        ...         ...        ...              '\n",
      " '...   \\n'\n",
      " '1963001        -0.563735          N         1.0          A  '\n",
      " 'M_ID_deb43ff012   \\n'\n",
      " '1963002        -0.160874          N         1.0        NaN  '\n",
      " 'M_ID_4247d8f9d5   \\n'\n",
      " '1963003        -0.682294          N         2.0          A  '\n",
      " 'M_ID_9a30428081   \\n'\n",
      " '1963004        -0.672527          N         NaN          A  '\n",
      " 'M_ID_9501338459   \\n'\n",
      " '1963005        -0.671354          N         1.0          B  '\n",
      " 'M_ID_0180a94418   \\n'\n",
      " '1963006        -0.722865          N         3.0          B  '\n",
      " 'M_ID_916fb760fc   \\n'\n",
      " '1963007         0.105095          N         1.0          C  '\n",
      " 'M_ID_50f575c681   \\n'\n",
      " '1963008        14.269401          N         4.0        NaN  '\n",
      " 'M_ID_d08abd9332   \\n'\n",
      " '1963009        -0.528197          N         4.0          A  '\n",
      " 'M_ID_cf49ae3158   \\n'\n",
      " '1963010        -0.731881          N         3.0          A  '\n",
      " 'M_ID_670cdecb69   \\n'\n",
      " '1963011        -0.745405          Y         NaN          B  '\n",
      " 'M_ID_fc7d7969c3   \\n'\n",
      " '1963012         0.723587          N         1.0          C  '\n",
      " 'M_ID_4f04567628   \\n'\n",
      " '1963013        -0.671775          N         1.0          B  '\n",
      " 'M_ID_cd2c0b07e9   \\n'\n",
      " '1963014        -0.716855          N         1.0          A  '\n",
      " 'M_ID_7c8a56dbd3   \\n'\n",
      " '1963015        -0.701828          N         1.0          A  '\n",
      " 'M_ID_f3867a48a4   \\n'\n",
      " '1963016        -0.691505          N         4.0          B  '\n",
      " 'M_ID_b89572fff4   \\n'\n",
      " '1963017        -0.735563          N         1.0          A  '\n",
      " 'M_ID_b5e5acf804   \\n'\n",
      " '1963018        -0.710844          N         1.0          B  '\n",
      " 'M_ID_c0915e5912   \\n'\n",
      " '1963019         0.378578          Y         NaN          C  '\n",
      " 'M_ID_3111c6df35   \\n'\n",
      " '1963020        -0.476431          N         5.0          C  '\n",
      " 'M_ID_7dabac675c   \\n'\n",
      " '1963021        -0.650858          N         3.0          B  '\n",
      " 'M_ID_96e6a85df9   \\n'\n",
      " '1963022        -0.679439          N         1.0          A  '\n",
      " 'M_ID_f028b9c665   \\n'\n",
      " '1963023        -0.731881          N         3.0          B  '\n",
      " 'M_ID_ee5a6f6a35   \\n'\n",
      " '1963024        -0.182166          N         3.0          B  '\n",
      " 'M_ID_531bc3b325   \\n'\n",
      " '1963025        -0.743527          N         1.0          A  '\n",
      " 'M_ID_feaccfbea2   \\n'\n",
      " '1963026        -0.701828          N         3.0          A  '\n",
      " 'M_ID_7754b67f3b   \\n'\n",
      " '1963027        -0.694390          N         1.0          A  '\n",
      " 'M_ID_da063195b7   \\n'\n",
      " '1963028        -0.621031          N         1.0          B  '\n",
      " 'M_ID_9a9ccb6544   \\n'\n",
      " '1963029        -0.656749          N         3.0          A  '\n",
      " 'M_ID_40c28d596f   \\n'\n",
      " '1963030        -0.739395          N         1.0          A  '\n",
      " 'M_ID_d855771cd9   \\n'\n",
      " '\\n'\n",
      " '              purchase_date  \\n'\n",
      " '0       2018-03-11 14:57:36  \\n'\n",
      " '1       2018-03-19 18:53:37  \\n'\n",
      " '2       2018-04-26 14:08:44  \\n'\n",
      " '3       2018-03-07 09:43:21  \\n'\n",
      " '4       2018-03-22 21:07:53  \\n'\n",
      " '5       2018-04-02 12:53:28  \\n'\n",
      " '6       2018-03-28 19:50:19  \\n'\n",
      " '7       2018-04-05 08:06:52  \\n'\n",
      " '8       2018-04-07 18:37:40  \\n'\n",
      " '9       2018-03-17 18:10:41  \\n'\n",
      " '10      2018-03-31 09:55:40  \\n'\n",
      " '11      2018-03-11 12:53:41  \\n'\n",
      " '12      2018-03-14 14:07:43  \\n'\n",
      " '13      2018-04-14 09:27:45  \\n'\n",
      " '14      2018-03-23 21:35:53  \\n'\n",
      " '15      2018-04-18 12:41:48  \\n'\n",
      " '16      2018-03-11 12:38:56  \\n'\n",
      " '17      2018-04-22 15:00:27  \\n'\n",
      " '18      2018-03-01 14:26:52  \\n'\n",
      " '19      2018-03-22 09:57:23  \\n'\n",
      " '20      2018-03-20 10:37:33  \\n'\n",
      " '21      2018-03-30 20:05:54  \\n'\n",
      " '22      2018-04-06 13:28:22  \\n'\n",
      " '23      2018-03-24 14:58:30  \\n'\n",
      " '24      2018-03-03 11:40:58  \\n'\n",
      " '25      2018-03-17 12:32:31  \\n'\n",
      " '26      2018-04-22 19:19:08  \\n'\n",
      " '27      2018-04-22 19:34:11  \\n'\n",
      " '28      2018-03-02 12:06:23  \\n'\n",
      " '29      2018-03-03 12:14:58  \\n'\n",
      " '...                     ...  \\n'\n",
      " '1963001 2018-03-01 22:26:06  \\n'\n",
      " '1963002 2018-04-18 12:39:52  \\n'\n",
      " '1963003 2018-03-04 22:07:05  \\n'\n",
      " '1963004 2018-04-28 21:29:42  \\n'\n",
      " '1963005 2018-03-10 18:30:43  \\n'\n",
      " '1963006 2018-03-21 07:21:02  \\n'\n",
      " '1963007 2018-03-24 11:35:17  \\n'\n",
      " '1963008 2018-04-23 06:44:21  \\n'\n",
      " '1963009 2018-03-04 19:04:13  \\n'\n",
      " '1963010 2017-11-15 00:00:00  \\n'\n",
      " '1963011 2018-04-10 13:55:42  \\n'\n",
      " '1963012 2018-04-15 16:12:16  \\n'\n",
      " '1963013 2018-03-31 12:50:42  \\n'\n",
      " '1963014 2018-02-05 12:27:18  \\n'\n",
      " '1963015 2018-03-03 12:58:59  \\n'\n",
      " '1963016 2017-11-02 10:34:29  \\n'\n",
      " '1963017 2018-04-09 17:16:51  \\n'\n",
      " '1963018 2018-03-14 14:56:26  \\n'\n",
      " '1963019 2018-02-23 23:27:22  \\n'\n",
      " '1963020 2018-03-29 17:41:22  \\n'\n",
      " '1963021 2018-04-14 09:30:29  \\n'\n",
      " '1963022 2018-03-28 14:47:17  \\n'\n",
      " '1963023 2018-03-11 15:07:49  \\n'\n",
      " '1963024 2018-04-30 08:57:58  \\n'\n",
      " '1963025 2017-12-20 13:48:02  \\n'\n",
      " '1963026 2018-04-06 14:36:52  \\n'\n",
      " '1963027 2018-03-07 13:19:18  \\n'\n",
      " '1963028 2018-03-05 12:04:56  \\n'\n",
      " '1963029 2018-03-09 14:47:05  \\n'\n",
      " '1963030 2018-04-11 07:59:46  \\n'\n",
      " '\\n'\n",
      " \"[1963031 rows x 6 columns], 'dfname': 'my_dataframe'}\"]\n",
      "[\u001b[1;37mINFO\u001b[0m] Loaded table my_dataframe\n",
      "[\u001b[1;37mINFO\u001b[0m] \n",
      "------------------------ Output ----------------------------\n",
      "\n",
      " my_dataframe:\n",
      "   purchase_amount category_1  category_2 category_3      merchant_id  \\\n",
      "0        -0.557574          N         1.0          B  M_ID_b0c793002c   \n",
      "1        -0.569580          N         1.0          B  M_ID_88920c89e8   \n",
      "2        -0.551037          N         1.0          B  M_ID_ad5237ef6b   \n",
      "3        -0.671925          Y         NaN          B  M_ID_9e84cda3b1   \n",
      "4        -0.659904          Y         NaN          B  M_ID_3c86fa3831   \n",
      "\n",
      "        purchase_date  \n",
      "0 2018-03-11 14:57:36  \n",
      "1 2018-03-19 18:53:37  \n",
      "2 2018-04-26 14:08:44  \n",
      "3 2018-03-07 09:43:21  \n",
      "4 2018-03-22 21:07:53  \n",
      "\n",
      "\n"
     ]
    },
    {
     "name": "stdout",
     "output_type": "stream",
     "text": [
      "[\u001b[1;34mDEBUG\u001b[0m] [__init__:15    ] ReactBridge (Start): current time=5:07:02.347\n"
     ]
    },
    {
     "name": "stderr",
     "output_type": "stream",
     "text": [
      "Exception ignored in: <bound method Comm.__del__ of <ipykernel.comm.comm.Comm object at 0x11591be48>>\n",
      "Traceback (most recent call last):\n",
      "  File \"/Users/peggy/.virtualenvs/dm/lib/python3.6/site-packages/ipykernel/comm/comm.py\", line 76, in __del__\n",
      "    self.close()\n",
      "  File \"/Users/peggy/.virtualenvs/dm/lib/python3.6/site-packages/ipykernel/comm/comm.py\", line 116, in close\n",
      "    self.kernel.comm_manager.unregister_comm(self)\n",
      "  File \"/Users/peggy/.virtualenvs/dm/lib/python3.6/site-packages/ipykernel/comm/manager.py\", line 56, in unregister_comm\n",
      "    comm = self.comms.pop(comm.comm_id)\n",
      "KeyError: ('jupyter_react.9e307ac4-8074-4570-bf8c-cc8bdd9466c7.FeaturesApp',)\n",
      "/Users/peggy/.virtualenvs/dm/lib/python3.6/site-packages/pandas/core/frame.py:3781: SettingWithCopyWarning: \n",
      "A value is trying to be set on a copy of a slice from a DataFrame\n",
      "\n",
      "See the caveats in the documentation: http://pandas.pydata.org/pandas-docs/stable/indexing.html#indexing-view-versus-copy\n",
      "  return super(DataFrame, self).rename(**kwargs)\n"
     ]
    }
   ],
   "source": [
    "quickshow(n_txs[purchase_cat_cols])"
   ]
  },
  {
   "cell_type": "code",
   "execution_count": 10,
   "metadata": {},
   "outputs": [
    {
     "data": {
      "text/plain": [
       "6          N\n",
       "10         N\n",
       "21         Y\n",
       "24         Y\n",
       "51         N\n",
       "64         N\n",
       "156        N\n",
       "161        N\n",
       "232        N\n",
       "315        N\n",
       "641        N\n",
       "1015       Y\n",
       "1025       N\n",
       "1052       N\n",
       "1057       N\n",
       "1475       N\n",
       "1482       N\n",
       "1501       N\n",
       "1627       N\n",
       "1669       N\n",
       "1732       N\n",
       "1861       Y\n",
       "1941       N\n",
       "2028       N\n",
       "2215       N\n",
       "2293       Y\n",
       "2304       N\n",
       "2336       N\n",
       "2388       Y\n",
       "2392       N\n",
       "          ..\n",
       "1961895    N\n",
       "1961943    Y\n",
       "1961952    Y\n",
       "1961983    N\n",
       "1961990    N\n",
       "1962055    N\n",
       "1962075    Y\n",
       "1962234    N\n",
       "1962375    N\n",
       "1962386    Y\n",
       "1962392    N\n",
       "1962489    Y\n",
       "1962504    N\n",
       "1962506    N\n",
       "1962526    Y\n",
       "1962594    N\n",
       "1962618    N\n",
       "1962680    N\n",
       "1962681    N\n",
       "1962689    N\n",
       "1962791    N\n",
       "1962795    Y\n",
       "1962825    Y\n",
       "1962870    N\n",
       "1962924    N\n",
       "1962934    N\n",
       "1962936    N\n",
       "1962947    N\n",
       "1963000    N\n",
       "1963008    N\n",
       "Name: category_1, Length: 18337, dtype: object"
      ]
     },
     "execution_count": 10,
     "metadata": {},
     "output_type": "execute_result"
    }
   ],
   "source": [
    "purchase_outliers.category_1"
   ]
  },
  {
   "cell_type": "code",
   "execution_count": 11,
   "metadata": {
    "collapsed": true
   },
   "outputs": [],
   "source": [
    "high_amount_merchants = ['']"
   ]
  },
  {
   "cell_type": "code",
   "execution_count": 12,
   "metadata": {},
   "outputs": [
    {
     "data": {
      "text/plain": [
       "(1688, 14)"
      ]
     },
     "execution_count": 12,
     "metadata": {},
     "output_type": "execute_result"
    }
   ],
   "source": [
    "n_txs[n_txs.merchant_id == 'M_ID_96ba3c7b60'].shape"
   ]
  },
  {
   "cell_type": "code",
   "execution_count": 26,
   "metadata": {},
   "outputs": [
    {
     "data": {
      "text/plain": [
       "<matplotlib.axes._subplots.AxesSubplot at 0x12878e550>"
      ]
     },
     "execution_count": 26,
     "metadata": {},
     "output_type": "execute_result"
    },
    {
     "data": {
      "image/png": "[encoded data removed]",
      "text/plain": [
       "<Figure size 432x288 with 1 Axes>"
      ]
     },
     "metadata": {
      "needs_background": "light"
     },
     "output_type": "display_data"
    }
   ],
   "source": [
    "# Purchase amount distribution \n",
    "sns.distplot(n_txs.purchase_amount)"
   ]
  },
  {
   "cell_type": "code",
   "execution_count": 29,
   "metadata": {},
   "outputs": [
    {
     "name": "stdout",
     "output_type": "stream",
     "text": [
      "Stats\n",
      "       purchase_amount\n",
      "count     1.944694e+06\n",
      "mean     -5.940558e-01\n",
      "std       2.510533e-01\n",
      "min      -7.468928e-01\n",
      "25%      -7.168548e-01\n",
      "50%      -6.763132e-01\n",
      "75%      -5.876268e-01\n",
      "max       1.530616e+00\n"
     ]
    },
    {
     "data": {
      "text/plain": [
       "<matplotlib.axes._subplots.AxesSubplot at 0x12b0c7a20>"
      ]
     },
     "execution_count": 29,
     "metadata": {},
     "output_type": "execute_result"
    },
    {
     "data": {
      "image/png": "[encoded data removed]",
      "text/plain": [
       "<Figure size 432x288 with 1 Axes>"
      ]
     },
     "metadata": {
      "needs_background": "light"
     },
     "output_type": "display_data"
    }
   ],
   "source": [
    "# Purchase amount distribution without outliers \n",
    "n_txs_no_outliers = filter_outliers(n_txs, ['purchase_amount'])\n",
    "sns.distplot(n_txs_no_outliers.purchase_amount)"
   ]
  },
  {
   "cell_type": "code",
   "execution_count": 30,
   "metadata": {},
   "outputs": [
    {
     "data": {
      "text/plain": [
       "<matplotlib.axes._subplots.AxesSubplot at 0x1282b2978>"
      ]
     },
     "execution_count": 30,
     "metadata": {},
     "output_type": "execute_result"
    },
    {
     "data": {
      "image/png": "[encoded data removed]",
      "text/plain": [
       "<Figure size 432x288 with 1 Axes>"
      ]
     },
     "metadata": {
      "needs_background": "light"
     },
     "output_type": "display_data"
    }
   ],
   "source": [
    "# purchase amount with premium merchants M_ID_96ba3c7b60\n",
    "sns.distplot(n_txs[n_txs.merchant_id == 'M_ID_96ba3c7b60'].purchase_amount)"
   ]
  },
  {
   "cell_type": "code",
   "execution_count": null,
   "metadata": {
    "collapsed": true
   },
   "outputs": [],
   "source": []
  },
  {
   "cell_type": "code",
   "execution_count": null,
   "metadata": {
    "collapsed": true
   },
   "outputs": [],
   "source": []
  },
  {
   "cell_type": "code",
   "execution_count": null,
   "metadata": {
    "collapsed": true
   },
   "outputs": [],
   "source": []
  },
  {
   "cell_type": "code",
   "execution_count": 38,
   "metadata": {},
   "outputs": [
    {
     "name": "stdout",
     "output_type": "stream",
     "text": [
      "count    4015.000000\n",
      "mean        4.333177\n",
      "std         6.223856\n",
      "min         1.531111\n",
      "25%         2.013628\n",
      "50%         2.829402\n",
      "75%         4.512371\n",
      "max       263.157498\n",
      "Name: purchase_amount, dtype: float64\n"
     ]
    },
    {
     "data": {
      "text/plain": [
       "<matplotlib.axes._subplots.AxesSubplot at 0x1285ae550>"
      ]
     },
     "execution_count": 38,
     "metadata": {},
     "output_type": "execute_result"
    },
    {
     "data": {
      "image/png": "[encoded data removed]",
      "text/plain": [
       "<Figure size 432x288 with 1 Axes>"
      ]
     },
     "metadata": {
      "needs_background": "light"
     },
     "output_type": "display_data"
    }
   ],
   "source": [
    "# Outliers with Cat1 = N, Cat2 = 1, Cat3 = C \n",
    "print(purchase_outliers[(purchase_outliers.category_1 == 'N') & (purchase_outliers.category_2 == 1) & (purchase_outliers.category_3=='C')].purchase_amount.describe())\n",
    "sns.distplot(purchase_outliers[(purchase_outliers.category_1 == 'N') & (purchase_outliers.category_2 == 1) & (purchase_outliers.category_3=='C')].purchase_amount)"
   ]
  },
  {
   "cell_type": "code",
   "execution_count": 39,
   "metadata": {},
   "outputs": [
    {
     "name": "stdout",
     "output_type": "stream",
     "text": [
      "count    63447.000000\n",
      "mean        -0.261016\n",
      "std          0.437528\n",
      "min         -0.731881\n",
      "25%         -0.554441\n",
      "50%         -0.418128\n",
      "75%         -0.145847\n",
      "max          1.530345\n",
      "Name: purchase_amount, dtype: float64\n"
     ]
    },
    {
     "data": {
      "text/plain": [
       "<matplotlib.axes._subplots.AxesSubplot at 0x128c71908>"
      ]
     },
     "execution_count": 39,
     "metadata": {},
     "output_type": "execute_result"
    },
    {
     "data": {
      "image/png": "[encoded data removed]",
      "text/plain": [
       "<Figure size 432x288 with 1 Axes>"
      ]
     },
     "metadata": {
      "needs_background": "light"
     },
     "output_type": "display_data"
    }
   ],
   "source": [
    "# No Outliers with Cat1 = N, Cat2 = 1, Cat3 = C \n",
    "print(n_txs_no_outliers[(n_txs_no_outliers.category_1 == 'N') & (n_txs_no_outliers.category_2 == 1) & (n_txs_no_outliers.category_3=='C')].purchase_amount.describe())\n",
    "sns.distplot(n_txs_no_outliers[(n_txs_no_outliers.category_1 == 'N') & (n_txs_no_outliers.category_2 == 1) & (n_txs_no_outliers.category_3=='C')].purchase_amount)"
   ]
  },
  {
   "cell_type": "code",
   "execution_count": null,
   "metadata": {
    "collapsed": true
   },
   "outputs": [],
   "source": []
  }
 ],
 "metadata": {
  "kernelspec": {
   "display_name": "Python 2",
   "language": "python",
   "name": "python2"
  },
  "language_info": {
   "codemirror_mode": {
    "name": "ipython",
    "version": 2
   },
   "file_extension": ".py",
   "mimetype": "text/x-python",
   "name": "python",
   "nbconvert_exporter": "python",
   "pygments_lexer": "ipython2",
   "version": "2.7.14"
  }
 },
 "nbformat": 4,
 "nbformat_minor": 2
}
